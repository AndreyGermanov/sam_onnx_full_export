{
 "cells": [
  {
   "cell_type": "code",
   "execution_count": 9,
   "metadata": {
    "collapsed": true
   },
   "outputs": [],
   "source": [
    "# Segment Anything Image Segmentation examples using ONNX\n",
    "#\n",
    "# Before running this code, ensure that you used the export_onnx.ipynb notebook\n",
    "# to export both SAM image encoder and SAM masks decoder to vit_b_encoder.onnx\n",
    "# and vit_b_decoder.onnx."
   ]
  },
  {
   "cell_type": "code",
   "execution_count": null,
   "outputs": [],
   "source": [
    "!pip install onnxruntime\n",
    "!pip install Pillow\n",
    "!pip install numpy"
   ],
   "metadata": {
    "collapsed": false
   }
  },
  {
   "cell_type": "code",
   "execution_count": 2,
   "outputs": [],
   "source": [
    "import onnxruntime as ort\n",
    "import numpy as np\n",
    "from PIL import Image\n",
    "from copy import deepcopy"
   ],
   "metadata": {
    "collapsed": false
   }
  },
  {
   "cell_type": "code",
   "execution_count": 11,
   "outputs": [
    {
     "data": {
      "text/plain": "(612, 415)"
     },
     "execution_count": 11,
     "metadata": {},
     "output_type": "execute_result"
    }
   ],
   "source": [
    "# LOAD IMAGE\n",
    "img = Image.open(\"cat_dog.jpg\").convert(\"RGB\")\n",
    "img.size"
   ],
   "metadata": {
    "collapsed": false
   }
  },
  {
   "cell_type": "code",
   "execution_count": 12,
   "outputs": [
    {
     "data": {
      "text/plain": "(1024, 694)"
     },
     "execution_count": 12,
     "metadata": {},
     "output_type": "execute_result"
    }
   ],
   "source": [
    "# 1. PREPROCESS IMAGE FOR ENCODER\n",
    "\n",
    "# Resize image preserving aspect ratio using 1024 as a long side\n",
    "orig_width, orig_height = img.size\n",
    "resized_width, resized_height = img.size\n",
    "\n",
    "if orig_width > orig_height:\n",
    "    resized_width = 1024\n",
    "    resized_height = int(1024 / orig_width * orig_height)\n",
    "else:\n",
    "    resized_height = 1024\n",
    "    resized_width = int(1024 / orig_height * orig_width)\n",
    "\n",
    "img = img.resize((resized_width, resized_height), Image.Resampling.BILINEAR)\n",
    "\n",
    "img.size"
   ],
   "metadata": {
    "collapsed": false
   }
  },
  {
   "cell_type": "code",
   "execution_count": 13,
   "outputs": [
    {
     "data": {
      "text/plain": "(1, 3, 694, 1024)"
     },
     "execution_count": 13,
     "metadata": {},
     "output_type": "execute_result"
    }
   ],
   "source": [
    "# Prepare input tensor from image\n",
    "input_tensor = np.array(img)\n",
    "\n",
    "# Normalize input tensor numbers\n",
    "mean = np.array([123.675, 116.28, 103.53])\n",
    "std = np.array([[58.395, 57.12, 57.375]])\n",
    "input_tensor = (input_tensor - mean) / std\n",
    "\n",
    "# Transpose input tensor to shape (Batch,Channels,Height,Width\n",
    "input_tensor = input_tensor.transpose(2,0,1)[None,:,:,:].astype(np.float32)\n",
    "\n",
    "input_tensor.shape"
   ],
   "metadata": {
    "collapsed": false
   }
  },
  {
   "cell_type": "code",
   "execution_count": 14,
   "outputs": [
    {
     "data": {
      "text/plain": "(1, 3, 1024, 1024)"
     },
     "execution_count": 14,
     "metadata": {},
     "output_type": "execute_result"
    }
   ],
   "source": [
    "# Make image square 1024x1024 by padding short side by zeros\n",
    "if resized_height < resized_width:\n",
    "    input_tensor = np.pad(input_tensor,((0,0),(0,0),(0,1024-resized_height),(0,0)))\n",
    "else:\n",
    "    input_tensor = np.pad(input_tensor,((0,0),(0,0),(0,0),(0,1024-resized_width)))\n",
    "\n",
    "input_tensor.shape"
   ],
   "metadata": {
    "collapsed": false
   }
  },
  {
   "cell_type": "code",
   "execution_count": 15,
   "outputs": [
    {
     "data": {
      "text/plain": "(1, 256, 64, 64)"
     },
     "execution_count": 15,
     "metadata": {},
     "output_type": "execute_result"
    }
   ],
   "source": [
    "# 2. GET IMAGE EMBEDDINGS USING IMAGE ENCODER\n",
    "encoder = ort.InferenceSession(\"vit_b_encoder.onnx\")\n",
    "outputs = encoder.run(None,{\"images\":input_tensor})\n",
    "embeddings = outputs[0]\n",
    "\n",
    "embeddings.shape"
   ],
   "metadata": {
    "collapsed": false
   }
  },
  {
   "cell_type": "code",
   "execution_count": null,
   "outputs": [],
   "source": [
    "# 3. DECODE MASKS FROM IMAGE EMBEDDINGS\n",
    "\n",
    "# 3.1 OPTION 1: Use single point as a prompt"
   ],
   "metadata": {
    "collapsed": false
   }
  },
  {
   "cell_type": "code",
   "execution_count": 16,
   "outputs": [
    {
     "data": {
      "text/plain": "array([[[537.098 , 384.6265],\n        [  0.    ,   0.    ]]], dtype=float32)"
     },
     "execution_count": 16,
     "metadata": {},
     "output_type": "execute_result"
    }
   ],
   "source": [
    "# ENCODE PROMPT (single point)\n",
    "input_point = np.array([[321,230]])\n",
    "input_label = np.array([1])\n",
    "\n",
    "onnx_coord = np.concatenate([input_point, np.array([[0.0, 0.0]])], axis=0)[None, :, :]\n",
    "onnx_label = np.concatenate([input_label, np.array([-1])])[None, :].astype(np.float32)\n",
    "\n",
    "coords = deepcopy(onnx_coord).astype(float)\n",
    "coords[..., 0] = coords[..., 0] * (resized_width / orig_width)\n",
    "coords[..., 1] = coords[..., 1] * (resized_height / orig_height)\n",
    "\n",
    "onnx_coord = coords.astype(\"float32\")\n",
    "onnx_coord"
   ],
   "metadata": {
    "collapsed": false
   }
  },
  {
   "cell_type": "code",
   "execution_count": 17,
   "outputs": [],
   "source": [
    "# RUN DECODER TO GET MASK\n",
    "onnx_mask_input = np.zeros((1, 1, 256, 256), dtype=np.float32)\n",
    "onnx_has_mask_input = np.zeros(1, dtype=np.float32)\n",
    "\n",
    "decoder = ort.InferenceSession(\"vit_b_decoder.onnx\")\n",
    "masks,_,_ = decoder.run(None,{\n",
    "    \"image_embeddings\": embeddings,\n",
    "    \"point_coords\": onnx_coord,\n",
    "    \"point_labels\": onnx_label,\n",
    "    \"mask_input\": onnx_mask_input,\n",
    "    \"has_mask_input\": onnx_has_mask_input,\n",
    "    \"orig_im_size\": np.array([orig_height, orig_width], dtype=np.float32)\n",
    "})"
   ],
   "metadata": {
    "collapsed": false
   }
  },
  {
   "cell_type": "code",
   "execution_count": 37,
   "outputs": [
    {
     "data": {
      "text/plain": "(415, 612)"
     },
     "execution_count": 37,
     "metadata": {},
     "output_type": "execute_result"
    }
   ],
   "source": [
    "# POSTPROCESS MASK\n",
    "mask = masks[0][0]\n",
    "mask = (mask > 0).astype('uint8')*255\n",
    "mask.shape"
   ],
   "metadata": {
    "collapsed": false
   }
  },
  {
   "cell_type": "code",
   "execution_count": 25,
   "outputs": [
    {
     "data": {
      "text/plain": "<PIL.Image.Image image mode=L size=612x415>",
      "image/png": "[encoded data removed]",
      "image/jpeg": "[encoded data removed]"
     },
     "execution_count": 25,
     "metadata": {},
     "output_type": "execute_result"
    }
   ],
   "source": [
    "# VISUALIZE MASK\n",
    "img_mask = Image.fromarray(mask,\"L\")\n",
    "img_mask"
   ],
   "metadata": {
    "collapsed": false
   }
  },
  {
   "cell_type": "code",
   "execution_count": null,
   "outputs": [],
   "source": [
    "# 3.2 OPTION 2: Use box as a prompt"
   ],
   "metadata": {
    "collapsed": false
   }
  },
  {
   "cell_type": "code",
   "execution_count": 26,
   "outputs": [
    {
     "data": {
      "text/plain": "array([[[220.86275, 262.5494 ],\n        [428.33987, 543.49396]]], dtype=float32)"
     },
     "execution_count": 26,
     "metadata": {},
     "output_type": "execute_result"
    }
   ],
   "source": [
    "# ENCODE PROMPT (box)\n",
    "input_box = np.array([132, 157, 256, 325]).reshape(2,2)\n",
    "input_labels = np.array([2,3])\n",
    "\n",
    "onnx_coord = input_box[None, :, :]\n",
    "onnx_label = input_labels[None, :].astype(np.float32)\n",
    "\n",
    "coords = deepcopy(onnx_coord).astype(float)\n",
    "coords[..., 0] = coords[..., 0] * (resized_width / orig_width)\n",
    "coords[..., 1] = coords[..., 1] * (resized_height / orig_height)\n",
    "\n",
    "onnx_coord = coords.astype(\"float32\")\n",
    "onnx_coord"
   ],
   "metadata": {
    "collapsed": false
   }
  },
  {
   "cell_type": "code",
   "execution_count": 27,
   "outputs": [],
   "source": [
    "# RUN DECODER TO GET MASK\n",
    "onnx_mask_input = np.zeros((1, 1, 256, 256), dtype=np.float32)\n",
    "onnx_has_mask_input = np.zeros(1, dtype=np.float32)\n",
    "\n",
    "decoder = ort.InferenceSession(\"vit_b_decoder.onnx\")\n",
    "masks,_,_ = decoder.run(None,{\n",
    "    \"image_embeddings\": embeddings,\n",
    "    \"point_coords\": onnx_coord,\n",
    "    \"point_labels\": onnx_label,\n",
    "    \"mask_input\": onnx_mask_input,\n",
    "    \"has_mask_input\": onnx_has_mask_input,\n",
    "    \"orig_im_size\": np.array([orig_height, orig_width], dtype=np.float32)\n",
    "})"
   ],
   "metadata": {
    "collapsed": false
   }
  },
  {
   "cell_type": "code",
   "execution_count": 36,
   "outputs": [
    {
     "data": {
      "text/plain": "(415, 612)"
     },
     "execution_count": 36,
     "metadata": {},
     "output_type": "execute_result"
    }
   ],
   "source": [
    "# POSTPROCESS MASK\n",
    "mask = masks[0][0]\n",
    "mask = (mask > 0).astype('uint8')*255\n",
    "mask.shape"
   ],
   "metadata": {
    "collapsed": false
   }
  },
  {
   "cell_type": "code",
   "execution_count": 29,
   "outputs": [
    {
     "data": {
      "text/plain": "<PIL.Image.Image image mode=L size=612x415>",
      "image/png": "[encoded data removed]",
      "image/jpeg": "[encoded data removed]"
     },
     "execution_count": 29,
     "metadata": {},
     "output_type": "execute_result"
    }
   ],
   "source": [
    "# VISUALIZE MASK\n",
    "img_mask = Image.fromarray(mask, \"L\")\n",
    "img_mask"
   ],
   "metadata": {
    "collapsed": false
   }
  },
  {
   "cell_type": "code",
   "execution_count": null,
   "outputs": [],
   "source": [
    "# 3.3 OPTION 3: Use box and point as a prompt"
   ],
   "metadata": {
    "collapsed": false
   }
  },
  {
   "cell_type": "code",
   "execution_count": 30,
   "outputs": [
    {
     "data": {
      "text/plain": "array([[[234.24837, 267.56625],\n        [220.86275, 262.5494 ],\n        [428.33987, 543.49396]]], dtype=float32)"
     },
     "execution_count": 30,
     "metadata": {},
     "output_type": "execute_result"
    }
   ],
   "source": [
    "# ENCODE PROMPT (box)\n",
    "input_box = np.array([132, 157, 256, 325]).reshape(2,2)\n",
    "box_labels = np.array([2,3])\n",
    "input_point = np.array([[140, 160]])\n",
    "input_label = np.array([0])\n",
    "\n",
    "onnx_coord = np.concatenate([input_point, input_box], axis=0)[None, :, :]\n",
    "onnx_label = np.concatenate([input_label, box_labels], axis=0)[None, :].astype(np.float32)\n",
    "\n",
    "coords = deepcopy(onnx_coord).astype(float)\n",
    "coords[..., 0] = coords[..., 0] * (resized_width / orig_width)\n",
    "coords[..., 1] = coords[..., 1] * (resized_height / orig_height)\n",
    "\n",
    "onnx_coord = coords.astype(\"float32\")\n",
    "onnx_coord"
   ],
   "metadata": {
    "collapsed": false
   }
  },
  {
   "cell_type": "code",
   "execution_count": 31,
   "outputs": [],
   "source": [
    "# RUN DECODER TO GET MASK\n",
    "onnx_mask_input = np.zeros((1, 1, 256, 256), dtype=np.float32)\n",
    "onnx_has_mask_input = np.zeros(1, dtype=np.float32)\n",
    "\n",
    "decoder = ort.InferenceSession(\"vit_b_decoder.onnx\")\n",
    "masks,_,_ = decoder.run(None,{\n",
    "    \"image_embeddings\": embeddings,\n",
    "    \"point_coords\": onnx_coord,\n",
    "    \"point_labels\": onnx_label,\n",
    "    \"mask_input\": onnx_mask_input,\n",
    "    \"has_mask_input\": onnx_has_mask_input,\n",
    "    \"orig_im_size\": np.array([orig_height, orig_width], dtype=np.float32)\n",
    "})"
   ],
   "metadata": {
    "collapsed": false
   }
  },
  {
   "cell_type": "code",
   "execution_count": 33,
   "outputs": [
    {
     "data": {
      "text/plain": "(415, 612)"
     },
     "execution_count": 33,
     "metadata": {},
     "output_type": "execute_result"
    }
   ],
   "source": [
    "# POSTPROCESS MASK\n",
    "mask = masks[0][0]\n",
    "mask = (mask > 0).astype('uint8')*255\n",
    "mask.shape"
   ],
   "metadata": {
    "collapsed": false
   }
  },
  {
   "cell_type": "code",
   "execution_count": 35,
   "outputs": [
    {
     "data": {
      "text/plain": "<PIL.Image.Image image mode=L size=612x415>",
      "image/png": "[encoded data removed]",
      "image/jpeg": "[encoded data removed]"
     },
     "execution_count": 35,
     "metadata": {},
     "output_type": "execute_result"
    }
   ],
   "source": [
    "img_mask = Image.fromarray(mask, \"L\")\n",
    "img_mask"
   ],
   "metadata": {
    "collapsed": false
   }
  }
 ],
 "metadata": {
  "kernelspec": {
   "display_name": "Python 3",
   "language": "python",
   "name": "python3"
  },
  "language_info": {
   "codemirror_mode": {
    "name": "ipython",
    "version": 2
   },
   "file_extension": ".py",
   "mimetype": "text/x-python",
   "name": "python",
   "nbconvert_exporter": "python",
   "pygments_lexer": "ipython2",
   "version": "2.7.6"
  }
 },
 "nbformat": 4,
 "nbformat_minor": 0
}
